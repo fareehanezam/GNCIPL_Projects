{
  "nbformat": 4,
  "nbformat_minor": 0,
  "metadata": {
    "colab": {
      "provenance": [],
      "authorship_tag": "ABX9TyOYQlwakuQIy/x9/psd8jvL",
      "include_colab_link": true
    },
    "kernelspec": {
      "name": "python3",
      "display_name": "Python 3"
    },
    "language_info": {
      "name": "python"
    }
  },
  "cells": [
    {
      "cell_type": "markdown",
      "metadata": {
        "id": "view-in-github",
        "colab_type": "text"
      },
      "source": [
        "<a href=\"https://colab.research.google.com/github/fareehanezam/GNCIPL_Projects/blob/main/GNCIPL_Project3_Optical_Digit_Clustering_Using_SOM.ipynb\" target=\"_parent\"><img src=\"https://colab.research.google.com/assets/colab-badge.svg\" alt=\"Open In Colab\"/></a>"
      ]
    },
    {
      "cell_type": "markdown",
      "source": [
        "# **Project Title**\n",
        "\n",
        "Optical Digit Clustering Using SOM"
      ],
      "metadata": {
        "id": "oWLFx8oAvoRy"
      }
    },
    {
      "cell_type": "markdown",
      "metadata": {
        "id": "6d1338dd"
      },
      "source": [
        "# **Project Summary**\n",
        "* Project title: Optical Digit Clustering Using SOM\n",
        "* Type: Digit Clustering\n",
        "* Techniques: Self Organizing Maps(SOM)\n",
        "* Dataset: MNIST / USPS"
      ]
    },
    {
      "cell_type": "markdown",
      "source": [
        "# **GitHub Link**\n",
        "\n",
        "https://github.com/fareehanezam/GNCIPL_Projects/blob/main/GNCIPL_Project3_Optical_Digit_Clustering_Using_SOM.ipynb"
      ],
      "metadata": {
        "id": "mEczCmOvvUNz"
      }
    },
    {
      "cell_type": "markdown",
      "source": [
        "# **Problem Statement:**\n",
        "\n",
        "Optical character recognition (OCR) of handwritten digits, such as those in the MNIST dataset, is a fundamental task in machine learning and computer vision. Traditional classification methods require labeled data for training. This project aims to explore the effectiveness of unsupervised learning techniques, specifically Self-Organizing Maps (SOMs), for clustering handwritten digits without relying on pre-assigned labels. The goal is to determine if SOMs can effectively group similar digits based on their visual features and to evaluate the quality of these clusters using appropriate metrics like Adjusted Rand Index (ARI) and Normalized Mutual Information (NMI). Furthermore, the project investigates the impact of different SOM parameters on clustering performance and analyzes neurons with mixed digit assignments to understand the limitations and ambiguities in the unsupervised clustering of handwritten digits."
      ],
      "metadata": {
        "id": "jyJpzdSjvTyn"
      }
    },
    {
      "cell_type": "code",
      "metadata": {
        "colab": {
          "base_uri": "https://localhost:8080/"
        },
        "id": "z_irDMIzQQGt",
        "outputId": "077080ee-50af-4e70-e154-17c7ac83bc61"
      },
      "source": [
        "!pip install minisom"
      ],
      "execution_count": 1,
      "outputs": [
        {
          "output_type": "stream",
          "name": "stdout",
          "text": [
            "Collecting minisom\n",
            "  Downloading minisom-2.3.5.tar.gz (12 kB)\n",
            "  Preparing metadata (setup.py) ... \u001b[?25l\u001b[?25hdone\n",
            "Building wheels for collected packages: minisom\n",
            "  Building wheel for minisom (setup.py) ... \u001b[?25l\u001b[?25hdone\n",
            "  Created wheel for minisom: filename=MiniSom-2.3.5-py3-none-any.whl size=12031 sha256=37cc93f8f49dd2d9545e9f5b02cf42e0b4caeca6be4c1b20d8580f90db8ca8a3\n",
            "  Stored in directory: /root/.cache/pip/wheels/0f/8c/a4/5b7aa56fa6ef11d536d45da775bcc5a2a1c163ff0f8f11990b\n",
            "Successfully built minisom\n",
            "Installing collected packages: minisom\n",
            "Successfully installed minisom-2.3.5\n"
          ]
        }
      ]
    },
    {
      "cell_type": "code",
      "source": [
        "from sklearn.datasets import fetch_openml\n",
        "import pandas as pd\n",
        "import numpy as np\n",
        "from sklearn.preprocessing import MinMaxScaler\n",
        "from sklearn.decomposition import PCA\n",
        "import matplotlib.pyplot as plt\n",
        "from sklearn.metrics import adjusted_rand_score, normalized_mutual_info_score\n",
        "from minisom import MiniSom"
      ],
      "metadata": {
        "id": "aBdqczQHxyfU"
      },
      "execution_count": 2,
      "outputs": []
    },
    {
      "cell_type": "markdown",
      "metadata": {
        "id": "abd6120b"
      },
      "source": [
        "## Dataset selection and loading\n",
        "\n",
        "\n"
      ]
    },
    {
      "cell_type": "code",
      "metadata": {
        "colab": {
          "base_uri": "https://localhost:8080/"
        },
        "id": "5a24fca6",
        "outputId": "b0e628ac-97a7-4636-fe60-0edfbedb7431"
      },
      "source": [
        "# Loading the MNIST dataset directly from OpenML\n",
        "mnist = fetch_openml('mnist_784', version=1, as_frame=False, parser='auto')\n",
        "\n",
        "# The data is in the 'data' attribute and the target is in the 'target' attribute\n",
        "X = mnist.data\n",
        "y = mnist.target\n",
        "\n",
        "# Verifying if the data was loaded successfully\n",
        "print(\"Shape of data (X):\", X.shape)\n",
        "print(\"Shape of target (y):\", y.shape)\n",
        "print(\"\\nSample data (first row):\", X[0])\n",
        "print(\"Sample target (first label):\", y[0])"
      ],
      "execution_count": 3,
      "outputs": [
        {
          "output_type": "stream",
          "name": "stdout",
          "text": [
            "Shape of data (X): (70000, 784)\n",
            "Shape of target (y): (70000,)\n",
            "\n",
            "Sample data (first row): [  0   0   0   0   0   0   0   0   0   0   0   0   0   0   0   0   0   0\n",
            "   0   0   0   0   0   0   0   0   0   0   0   0   0   0   0   0   0   0\n",
            "   0   0   0   0   0   0   0   0   0   0   0   0   0   0   0   0   0   0\n",
            "   0   0   0   0   0   0   0   0   0   0   0   0   0   0   0   0   0   0\n",
            "   0   0   0   0   0   0   0   0   0   0   0   0   0   0   0   0   0   0\n",
            "   0   0   0   0   0   0   0   0   0   0   0   0   0   0   0   0   0   0\n",
            "   0   0   0   0   0   0   0   0   0   0   0   0   0   0   0   0   0   0\n",
            "   0   0   0   0   0   0   0   0   0   0   0   0   0   0   0   0   0   0\n",
            "   0   0   0   0   0   0   0   0   3  18  18  18 126 136 175  26 166 255\n",
            " 247 127   0   0   0   0   0   0   0   0   0   0   0   0  30  36  94 154\n",
            " 170 253 253 253 253 253 225 172 253 242 195  64   0   0   0   0   0   0\n",
            "   0   0   0   0   0  49 238 253 253 253 253 253 253 253 253 251  93  82\n",
            "  82  56  39   0   0   0   0   0   0   0   0   0   0   0   0  18 219 253\n",
            " 253 253 253 253 198 182 247 241   0   0   0   0   0   0   0   0   0   0\n",
            "   0   0   0   0   0   0   0   0  80 156 107 253 253 205  11   0  43 154\n",
            "   0   0   0   0   0   0   0   0   0   0   0   0   0   0   0   0   0   0\n",
            "   0  14   1 154 253  90   0   0   0   0   0   0   0   0   0   0   0   0\n",
            "   0   0   0   0   0   0   0   0   0   0   0   0   0 139 253 190   2   0\n",
            "   0   0   0   0   0   0   0   0   0   0   0   0   0   0   0   0   0   0\n",
            "   0   0   0   0   0  11 190 253  70   0   0   0   0   0   0   0   0   0\n",
            "   0   0   0   0   0   0   0   0   0   0   0   0   0   0   0   0  35 241\n",
            " 225 160 108   1   0   0   0   0   0   0   0   0   0   0   0   0   0   0\n",
            "   0   0   0   0   0   0   0   0   0  81 240 253 253 119  25   0   0   0\n",
            "   0   0   0   0   0   0   0   0   0   0   0   0   0   0   0   0   0   0\n",
            "   0   0  45 186 253 253 150  27   0   0   0   0   0   0   0   0   0   0\n",
            "   0   0   0   0   0   0   0   0   0   0   0   0   0  16  93 252 253 187\n",
            "   0   0   0   0   0   0   0   0   0   0   0   0   0   0   0   0   0   0\n",
            "   0   0   0   0   0   0   0 249 253 249  64   0   0   0   0   0   0   0\n",
            "   0   0   0   0   0   0   0   0   0   0   0   0   0   0  46 130 183 253\n",
            " 253 207   2   0   0   0   0   0   0   0   0   0   0   0   0   0   0   0\n",
            "   0   0   0   0  39 148 229 253 253 253 250 182   0   0   0   0   0   0\n",
            "   0   0   0   0   0   0   0   0   0   0   0   0  24 114 221 253 253 253\n",
            " 253 201  78   0   0   0   0   0   0   0   0   0   0   0   0   0   0   0\n",
            "   0   0  23  66 213 253 253 253 253 198  81   2   0   0   0   0   0   0\n",
            "   0   0   0   0   0   0   0   0   0   0  18 171 219 253 253 253 253 195\n",
            "  80   9   0   0   0   0   0   0   0   0   0   0   0   0   0   0   0   0\n",
            "  55 172 226 253 253 253 253 244 133  11   0   0   0   0   0   0   0   0\n",
            "   0   0   0   0   0   0   0   0   0   0 136 253 253 253 212 135 132  16\n",
            "   0   0   0   0   0   0   0   0   0   0   0   0   0   0   0   0   0   0\n",
            "   0   0   0   0   0   0   0   0   0   0   0   0   0   0   0   0   0   0\n",
            "   0   0   0   0   0   0   0   0   0   0   0   0   0   0   0   0   0   0\n",
            "   0   0   0   0   0   0   0   0   0   0   0   0   0   0   0   0   0   0\n",
            "   0   0   0   0   0   0   0   0   0   0   0   0   0   0   0   0   0   0\n",
            "   0   0   0   0   0   0   0   0   0   0]\n",
            "Sample target (first label): 5\n"
          ]
        }
      ]
    },
    {
      "cell_type": "markdown",
      "source": [
        "* **Shape of data (X):** (70000, 784): This tells the\n",
        "dimensions of the X variable, which holds the image data. It means there are 70,000 samples (images) in the dataset, and each image is represented by 784 features (pixels). This is because the original images are 28x28 pixels, and $28 * 28 = 784$$28 * 28 = 784$.\n",
        "* **Shape of target (y):** (70000,): This line shows the shape of the y variable, which contains the target labels (the actual digits) for each image. It indicates that there are 70,000 target labels, corresponding to each of the 70,000 images in X. The comma signifies it's a 1-dimensional array or vector.\n",
        "* **Sample data (first row):** [ ... ]: This displays the pixel values for the first image in the dataset. You see a list of 784 numbers. These numbers represent the intensity of each pixel in the 28x28 image, flattened into a single row. The values typically range from 0 to 255, representing grayscale intensity. In this case, the first image appears to have many zero values initially, which is expected for the background pixels around the digit.\n",
        "* **Sample target (first label):** 5: This line shows the target label for the first image in the dataset. In this case, the first image is labeled as the digit '5'.\n",
        "\n",
        "In summary, the output confirms that the MNIST dataset was successfully loaded, and it shows the size and structure of the data and labels, along with a glimpse of the raw pixel data for the first image and its corresponding label."
      ],
      "metadata": {
        "id": "KQ-jVPlPxeSk"
      }
    },
    {
      "cell_type": "markdown",
      "metadata": {
        "id": "24c1c3ef"
      },
      "source": [
        "## Data preprocessing\n",
        "\n"
      ]
    },
    {
      "cell_type": "code",
      "metadata": {
        "colab": {
          "base_uri": "https://localhost:8080/"
        },
        "id": "0d68698e",
        "outputId": "d6d67bdd-7ff8-4cea-8e84-f4214030221e"
      },
      "source": [
        "# Checking for and handle any missing values in the dataset X.\n",
        "print(\"Checking for missing values...\")\n",
        "print(\"Number of missing values in X:\", np.isnan(X).sum())"
      ],
      "execution_count": 4,
      "outputs": [
        {
          "output_type": "stream",
          "name": "stdout",
          "text": [
            "Checking for missing values...\n",
            "Number of missing values in X: 0\n"
          ]
        }
      ]
    },
    {
      "cell_type": "markdown",
      "source": [
        "The output shows there is no missing values."
      ],
      "metadata": {
        "id": "Q8Fy9Z6ByVyo"
      }
    },
    {
      "cell_type": "code",
      "source": [
        "#Scaling the pixel values in X to a smaller range, such as [0, 1].\n",
        "print(\"\\nScaling data...\")\n",
        "scaler = MinMaxScaler()\n",
        "X_scaled = scaler.fit_transform(X)\n",
        "print(\"Data scaled to [0, 1]. Sample scaled value:\", X_scaled[0, 0])"
      ],
      "metadata": {
        "colab": {
          "base_uri": "https://localhost:8080/"
        },
        "id": "eDOZS_RTyKgQ",
        "outputId": "a4c969ba-ccea-4765-c165-4b96a16f4274"
      },
      "execution_count": 5,
      "outputs": [
        {
          "output_type": "stream",
          "name": "stdout",
          "text": [
            "\n",
            "Scaling data...\n",
            "Data scaled to [0, 1]. Sample scaled value: 0.0\n"
          ]
        }
      ]
    },
    {
      "cell_type": "markdown",
      "source": [
        "**Data scaled to [0, 1]. Sample scaled value: 0.0:** This message indicates that the pixel values in the dataset have been successfully scaled to the range [0, 1]. It also shows the value of the first element ([0, 0]) in the X_scaled array as an example of the scaled data. Since the original data likely contained a 0 value (representing a black pixel), after scaling to the [0, 1] range, the corresponding value remains 0.0. This confirms that the MinMaxScaler has been applied."
      ],
      "metadata": {
        "id": "yGZVOeP3y720"
      }
    },
    {
      "cell_type": "code",
      "source": [
        "# based on the dataset's characteristics (784 features), 784 features is a high dimensionality for SOM, which can become computationally expensive and suffer from the curse of dimensionality. PCA is a suitable technique to reduce dimensionality while preserving variance.\n",
        "print(\"\\nApplying PCA for dimensionality reduction...\")\n",
        "#aiming to keep a significant amount of variance, e.g., 95% or 99%.\n",
        "#first fitting PCA to see how many components are needed for a certain variance.\n",
        "pca = PCA(n_components=0.95) # Keep 95% of variance\n",
        "X_pca = pca.fit_transform(X_scaled)\n",
        "\n",
        "print(f\"Original number of features: {X_scaled.shape[1]}\")\n",
        "print(f\"Number of features after PCA (keeping 95% variance): {X_pca.shape[1]}\")\n",
        "print(f\"Cumulative variance explained by components: {np.sum(pca.explained_variance_ratio_)}\")"
      ],
      "metadata": {
        "colab": {
          "base_uri": "https://localhost:8080/"
        },
        "id": "QhtIXlYSyUo4",
        "outputId": "d8331682-8c14-4fc1-da2c-f74aafcdd74e"
      },
      "execution_count": 6,
      "outputs": [
        {
          "output_type": "stream",
          "name": "stdout",
          "text": [
            "\n",
            "Applying PCA for dimensionality reduction...\n",
            "Original number of features: 784\n",
            "Number of features after PCA (keeping 95% variance): 154\n",
            "Cumulative variance explained by components: 0.9503212569775911\n"
          ]
        }
      ]
    },
    {
      "cell_type": "markdown",
      "source": [
        "* **Number of features after PCA (keeping 95% variance): 154:** This is the key result of the PCA. It tells that to retain 95% of the original dataset's variance, PCA reduced the number of features from 784 down to 154. This significantly reduces the dimensionality of the data while preserving most of the information.\n",
        "* **Cumulative variance explained by components: 0.9503212569775911:** This number represents the total proportion of the original dataset's variance that is captured by the selected number of principal components (154 in this case). The value is very close to 0.95, which is the target variance you specified when initializing the PCA object (n_components=0.95). This confirms that PCA successfully retained approximately 95% of the variance in the reduced-dimensional data.\n",
        "\n",
        "In summary, the output demonstrates that PCA was successfully applied to reduce the dimensionality of your data from 784 features to 154 features while retaining 95% of the original variance, making the data more suitable for the SOM algorithm."
      ],
      "metadata": {
        "id": "lhormRQezZA7"
      }
    },
    {
      "cell_type": "code",
      "source": [
        "#Storing the preprocessed data in a new variable, X_preprocessed.\n",
        "X_preprocessed = X_pca\n",
        "print(\"\\nPreprocessed data shape:\", X_preprocessed.shape)\n",
        "print(\"Preprocessing complete.\")"
      ],
      "metadata": {
        "colab": {
          "base_uri": "https://localhost:8080/"
        },
        "id": "4HeLiGqTyZyn",
        "outputId": "a9f4b582-9b74-414c-ae9b-680d34ba8852"
      },
      "execution_count": 7,
      "outputs": [
        {
          "output_type": "stream",
          "name": "stdout",
          "text": [
            "\n",
            "Preprocessed data shape: (70000, 154)\n",
            "Preprocessing complete.\n"
          ]
        }
      ]
    },
    {
      "cell_type": "markdown",
      "source": [
        "The above output simply assigns the results of the PCA to a new variable and prints confirmation messages along with the shape of the resulting data:\n",
        "\n",
        "**Preprocessed data shape: (70000, 154): **This confirms that the X_preprocessed variable now holds the data after PCA has been applied. The shape (70000, 154) indicates that you still have 70,000 samples, but the number of features has been reduced to 154, as determined by the PCA with 95% variance retention.\n"
      ],
      "metadata": {
        "id": "0Egp3_T42EfD"
      }
    },
    {
      "cell_type": "markdown",
      "metadata": {
        "id": "0150ba11"
      },
      "source": [
        "## EDA\n",
        "\n",
        "\n"
      ]
    },
    {
      "cell_type": "code",
      "metadata": {
        "colab": {
          "base_uri": "https://localhost:8080/",
          "height": 564
        },
        "id": "cb7fcd26",
        "outputId": "564ff573-8fe1-4c34-8af6-0f0d4278bc63"
      },
      "source": [
        "#Analyzing the distribution of digit labels in the original target variable y.\n",
        "plt.figure(figsize=(10, 6))\n",
        "plt.hist(y.astype(int), bins=np.arange(-0.5, 10.5, 1), edgecolor='black')\n",
        "plt.xticks(range(10))\n",
        "plt.title('Distribution of Digit Labels in MNIST Dataset')\n",
        "plt.xlabel('Digit')\n",
        "plt.ylabel('Frequency')\n",
        "plt.grid(axis='y', alpha=0.75)\n",
        "plt.show()"
      ],
      "execution_count": 8,
      "outputs": [
        {
          "output_type": "display_data",
          "data": {
            "text/plain": [
              "<Figure size 1000x600 with 1 Axes>"
            ],
            "image/png": "[encoded data removed]"
          },
          "metadata": {}
        }
      ]
    },
    {
      "cell_type": "markdown",
      "source": [
        "The output of this code is a histogram titled \"Distribution of Digit Labels in MNIST Dataset\".\n",
        "\n",
        "* The x-axis represents the different digit labels (0 through 9).\n",
        "* The y-axis represents the frequency, or the number of times each digit appears in the dataset.\n",
        "* Each bar in the histogram corresponds to a specific digit. The height of the bar indicates how many images in the MNIST dataset have that digit as their label.\n",
        "\n",
        "By looking at the heights of the bars the distribution of the digits in the dataset can be observed. In the case of the MNIST dataset, it is observed that the distribution is relatively uniform, meaning each digit appears a similar number of times. This is a good characteristic for a classification or clustering task, as it means the model won't be heavily biased towards certain digits due to an imbalance in the training data."
      ],
      "metadata": {
        "id": "mAMpWRmr3_5O"
      }
    },
    {
      "cell_type": "code",
      "source": [
        "#Visualizing the distribution of the first few principal components in X_preprocessed.\n",
        "# visualizing the first 3 principal components.\n",
        "num_components_to_plot = min(X_preprocessed.shape[1], 3)\n",
        "fig, axes = plt.subplots(1, num_components_to_plot, figsize=(15, 5))\n",
        "\n",
        "for i in range(num_components_to_plot):\n",
        "    axes[i].hist(X_preprocessed[:, i], bins=50, edgecolor='black')\n",
        "    axes[i].set_title(f'Distribution of Principal Component {i+1}')\n",
        "    axes[i].set_xlabel(f'Principal Component {i+1} Value')\n",
        "    axes[i].set_ylabel('Frequency')\n",
        "\n",
        "plt.tight_layout()\n",
        "plt.show()"
      ],
      "metadata": {
        "colab": {
          "base_uri": "https://localhost:8080/",
          "height": 335
        },
        "id": "sxQ99qUX2RIx",
        "outputId": "6c601186-ff2b-4db4-d0b2-9881d8c0fac2"
      },
      "execution_count": 9,
      "outputs": [
        {
          "output_type": "display_data",
          "data": {
            "text/plain": [
              "<Figure size 1500x500 with 3 Axes>"
            ],
            "image/png": "[encoded data removed]"
          },
          "metadata": {}
        }
      ]
    },
    {
      "cell_type": "markdown",
      "source": [
        "The output of the above code is a set of histograms, one for each of the first few principal components (up to a maximum of 3 in this case) of the preprocessed data (X_preprocessed).\n",
        "\n",
        "* Each histogram is titled \"Distribution of Principal Component X\", where X is the component number (1, 2, or 3).\n",
        "* The x-axis of each histogram represents the range of values for that specific principal component.\n",
        "* The y-axis represents the frequency, showing how many data points have values within a certain range for that principal component.\n",
        "\n",
        "These histograms gives an idea of the distribution of data along the most important dimensions (principal components) identified by PCA. Different shapes for each component's distribution, reflecting how the variance is distributed across these dimensions can be seen. For instance, the first principal component (which captures the most variance) might have a wider or more spread-out distribution compared to later components."
      ],
      "metadata": {
        "id": "_2gefgn09SiZ"
      }
    },
    {
      "cell_type": "code",
      "source": [
        "# Visualizing a few sample images from the original dataset X\n",
        "print(\"Displaying sample images...\")\n",
        "fig, axes = plt.subplots(2, 5, figsize=(12, 5))\n",
        "axes = axes.flatten()\n",
        "\n",
        "# Selecting a few random indices to display\n",
        "sample_indices = np.random.choice(len(X), 10, replace=False)\n",
        "\n",
        "for i, ax in enumerate(axes):\n",
        "    img = X[sample_indices[i]].reshape(28, 28)\n",
        "    ax.imshow(img, cmap='gray')\n",
        "    ax.set_title(f'Label: {y[sample_indices[i]]}')\n",
        "    ax.axis('off')\n",
        "\n",
        "plt.tight_layout()\n",
        "plt.show()"
      ],
      "metadata": {
        "colab": {
          "base_uri": "https://localhost:8080/",
          "height": 441
        },
        "id": "IhpFjPNP2bpN",
        "outputId": "8fc2b642-b325-4d19-8417-d6771552f576"
      },
      "execution_count": 10,
      "outputs": [
        {
          "output_type": "stream",
          "name": "stdout",
          "text": [
            "Displaying sample images...\n"
          ]
        },
        {
          "output_type": "display_data",
          "data": {
            "text/plain": [
              "<Figure size 1200x500 with 10 Axes>"
            ],
            "image/png": "[encoded data removed]"
          },
          "metadata": {}
        }
      ]
    },
    {
      "cell_type": "markdown",
      "source": [
        "The output of this code is a grid of sample images from the original MNIST dataset, along with their corresponding labels.\n",
        "\n",
        "* The output shows a figure containing multiple subplots arranged in a grid, 2 rows and 5 columns, totaling 10 images.\n",
        "* Each subplot displays a single image, which is a 28x28 grayscale representation of a handwritten digit.\n",
        "* Above each image, there is a title indicating the original digit label (Label: X, where X is the digit).\n",
        "* The axes are turned off (ax.axis('off')) for each subplot to focus on the image itself.\n",
        "\n",
        "This visualization allows to visually inspect some of the data we are working with. The variety in handwriting styles and confirms that the images correspond to the labels provided in the dataset."
      ],
      "metadata": {
        "id": "L8pZc7k--6i3"
      }
    },
    {
      "cell_type": "markdown",
      "metadata": {
        "id": "b120bd28"
      },
      "source": [
        "## SOM Implementation\n",
        "\n"
      ]
    },
    {
      "cell_type": "code",
      "metadata": {
        "colab": {
          "base_uri": "https://localhost:8080/"
        },
        "id": "4NEaJ4oCQZbc",
        "outputId": "d046b615-9ce5-4f76-a7d3-36b1d3cebc46"
      },
      "source": [
        "# Defining SOM parameters\n",
        "map_width = 10\n",
        "map_height = 10\n",
        "input_len = X_preprocessed.shape[1] # The number of features after PCA\n",
        "\n",
        "# Initializing the MiniSom object\n",
        "som = MiniSom(x=map_width, y=map_height, input_len=input_len, sigma=1.0, learning_rate=0.5, random_seed=42)\n",
        "\n",
        "# Initializing the SOM weights randomly\n",
        "som.random_weights_init(X_preprocessed)\n",
        "\n",
        "# Training the SOM on the X_preprocessed data.\n",
        "num_iterations = 10000 # A reasonable number of iterations for training\n",
        "\n",
        "print(f\"Training SOM for {num_iterations} iterations...\")\n",
        "som.train_random(data=X_preprocessed, num_iteration=num_iterations)\n",
        "print(\"SOM training complete.\")\n",
        "\n",
        "# to access the trained weights or other attributes later.\n",
        "# For example, the weights are stored in som.get_weights().\n",
        "# not displayed here, but they are available.\n",
        "print(f\"SOM map dimensions: {map_width}x{map_height}\")\n",
        "print(f\"SOM input length: {input_len}\")"
      ],
      "execution_count": 11,
      "outputs": [
        {
          "output_type": "stream",
          "name": "stdout",
          "text": [
            "Training SOM for 10000 iterations...\n",
            "SOM training complete.\n",
            "SOM map dimensions: 10x10\n",
            "SOM input length: 154\n"
          ]
        }
      ]
    },
    {
      "cell_type": "markdown",
      "source": [
        "This code cell is responsible for initializing and training the Self-Organizing Map (SOM) using the MiniSom library. The output confirms the progress and completion of the training process.\n",
        "* **SOM map dimensions: 10x10:** This shows the dimensions of the trained SOM grid, which is 10 neurons wide and 10 neurons high, as defined by the map_width and map_height parameters.\n",
        "* **SOM input length: 154:** This confirms the number of features that each neuron in the SOM is expecting as input, which matches the number of features in your preprocessed data (X_preprocessed) after PCA.\n",
        "\n",
        "The code also initializes the SOM weights and trains the SOM on the preprocessed data. While the weights themselves are not printed in the output, they are updated during the training process and stored within the som object, which can be accessed later if needed."
      ],
      "metadata": {
        "id": "nrlZB5GvAx2h"
      }
    },
    {
      "cell_type": "markdown",
      "metadata": {
        "id": "a319eb38"
      },
      "source": [
        "## Clustering and visualization\n",
        "\n"
      ]
    },
    {
      "cell_type": "code",
      "metadata": {
        "id": "f970d80e"
      },
      "source": [
        "# Mapping each data point in X_preprocessed to its winning neuron\n",
        "winning_neurons = np.array([som.winner(x) for x in X_preprocessed])\n",
        "\n",
        "# Assigning each data point the label of its winning neuron (based on the original labels y)\n",
        "# Creating a map to store the counts of original labels for each neuron\n",
        "label_counts = {}\n",
        "for i in range(map_width):\n",
        "    for j in range(map_height):\n",
        "        label_counts[(i, j)] = {digit: 0 for digit in range(10)}\n",
        "\n",
        "# Populating the label counts for each neuron\n",
        "for i, (wx, wy) in enumerate(winning_neurons):\n",
        "    original_label = int(y[i])\n",
        "    label_counts[(wx, wy)][original_label] += 1\n",
        "\n",
        "# Determining the majority class for each neuron\n",
        "neuron_labels = np.zeros((map_width, map_height), dtype=int)\n",
        "for i in range(map_width):\n",
        "    for j in range(map_height):\n",
        "        # Finding the digit with the maximum count for this neuron\n",
        "        if sum(label_counts[(i, j)].values()) > 0:\n",
        "            majority_label = max(label_counts[(i, j)], key=label_counts[(i, j)].get)\n",
        "            neuron_labels[i, j] = majority_label\n",
        "        else:\n",
        "            # Assigning a default label or indicate an unpopulated neuron\n",
        "            neuron_labels[i, j] = -1     #-1 to indicate an empty neuron"
      ],
      "execution_count": 12,
      "outputs": []
    },
    {
      "cell_type": "markdown",
      "source": [
        "The above code calculates which neuron each data point activates and then determines the most frequent original digit label associated with each neuron on the SOM grid. The winning_neurons, label_counts, and neuron_labels variables are populated with this information and will be used in subsequent steps for visualization and evaluation."
      ],
      "metadata": {
        "id": "iMXHIWLTB-0G"
      }
    },
    {
      "cell_type": "code",
      "source": [
        "#Visualizing the SOM grid and the distribution of original digit labels within each neuron.\n",
        "plt.figure(figsize=(map_width, map_height))\n",
        "plt.pcolor(neuron_labels.T, cmap='viridis', edgecolors='k') # Transpose for correct orientation\n",
        "plt.colorbar(label='Majority Digit Label')\n",
        "plt.title('SOM Grid with Majority Digit Labels')\n",
        "plt.xticks(np.arange(map_width) + 0.5, range(map_width))\n",
        "plt.yticks(np.arange(map_height) + 0.5, range(map_height))\n",
        "plt.grid(False)\n",
        "\n",
        "# Adding text labels for each neuron showing the majority class\n",
        "for i in range(map_width):\n",
        "    for j in range(map_height):\n",
        "        if neuron_labels[i, j] != -1:\n",
        "            plt.text(i + 0.5, j + 0.5, str(neuron_labels[i, j]),\n",
        "                     ha='center', va='center', color='white', fontsize=10)\n",
        "\n",
        "plt.show()"
      ],
      "metadata": {
        "colab": {
          "base_uri": "https://localhost:8080/",
          "height": 853
        },
        "id": "90qlEgPI3l6a",
        "outputId": "8f62e1f1-bed9-418e-e931-f4ff779f0b2e"
      },
      "execution_count": 13,
      "outputs": [
        {
          "output_type": "display_data",
          "data": {
            "text/plain": [
              "<Figure size 1000x1000 with 2 Axes>"
            ],
            "image/png": "[encoded data removed]"
          },
          "metadata": {}
        }
      ]
    },
    {
      "cell_type": "markdown",
      "source": [
        "The output of the above code is a visualization of trained SOM grid, where each cell (neuron) is colored based on the majority digit label of the data points that were mapped to it.\n",
        "\n",
        "\n",
        "\n",
        "* **The Grid:** The plot displays a grid of squares, representing the neurons of your SOM. The size of the grid corresponds to your map_width and map_height (e.g., 10x10).\n",
        "* **Colors:** Each square (neuron) is colored according to a colormap ('viridis' in this case). The color of a neuron indicates the majority digit label of the data points that activated that neuron during training. The color bar on the right shows which color corresponds to which digit label (0 through 9).\n",
        "* **Text Labels:** Inside each neuron's square, a white number is displayed. This number explicitly shows the majority digit label for that specific neuron. This is helpful for quickly identifying which digits are primarily represented by different areas of the SOM.\n",
        "* **Grid Lines:** The black edges around the cells help to clearly delineate individual neurons on the map.\n",
        "Title and Labels: The plot has a title \"SOM Grid with Majority Digit Labels\" and axis labels indicating the grid coordinates.\n",
        "\n",
        "By examining this visualization, how the SOM has organized the handwritten digits in an unsupervised manner can be observed. Neurons that are close to each other on the grid tend to represent similar input patterns (digits). Neurons primarily representing the same digit are often clustered together, although there might be areas where different digits are mixed, especially at the boundaries between clusters. This visualization provides a clear picture of the SOM's learned topological ordering of the data."
      ],
      "metadata": {
        "id": "Q9_jnn57CT-9"
      }
    },
    {
      "cell_type": "code",
      "metadata": {
        "colab": {
          "base_uri": "https://localhost:8080/",
          "height": 853
        },
        "id": "2318fdf8",
        "outputId": "a2682e3c-6264-4824-eb52-5496e396d532"
      },
      "source": [
        "# Visualizing the U-matrix of the trained SOM.\n",
        "u_matrix = som.distance_map()\n",
        "\n",
        "plt.figure(figsize=(map_width, map_height))\n",
        "plt.pcolor(u_matrix.T, cmap='bone_r') # Transpose for correct orientation and use a reverse grayscale colormap\n",
        "plt.colorbar(label='Distance to Neighbors')\n",
        "plt.title('SOM U-Matrix')\n",
        "plt.xticks(np.arange(map_width) + 0.5, range(map_width))\n",
        "plt.yticks(np.arange(map_height) + 0.5, range(map_height))\n",
        "plt.grid(False)\n",
        "plt.show()"
      ],
      "execution_count": 14,
      "outputs": [
        {
          "output_type": "display_data",
          "data": {
            "text/plain": [
              "<Figure size 1000x1000 with 2 Axes>"
            ],
            "image/png": "[encoded data removed]"
          },
          "metadata": {}
        }
      ]
    },
    {
      "cell_type": "markdown",
      "source": [
        "The output of the above code is a visualization of the U-matrix (Unified Distance Matrix) of the trained SOM. The U-matrix helps in understanding the topology of the SOM and identifying potential clusters and boundaries between them.\n",
        "\n",
        "* **The Grid:** Like the previous visualization, this is a grid representing the neurons of your SOM, with the same dimensions (map_width x map_height).\n",
        "* **Colors (Grayscale):** Each cell (neuron) is colored based on the average distance between that neuron's weight vector and the weight vectors of its neighboring neurons on the map.\n",
        "    * Darker colors (low values in the U-matrix) indicate that a neuron's weight vector is similar to its neighbors. These areas often represent the centers of clusters.\n",
        "    * Lighter colors (high values in the U-matrix) indicate that a neuron's weight vector is significantly different from its neighbors. These areas often represent the boundaries or \"mountains\" between different clusters.\n",
        "* **Color Bar:** The color bar on the right indicates the range of distance values, with darker shades corresponding to smaller distances and lighter shades to larger distances.\n",
        "* **Title and Labels:** The plot is titled \"SOM U-Matrix\" and has axis labels for the grid coordinates.\n",
        "\n",
        "By examining the U-matrix, visually areas of low distance (darker regions) which are likely to be the cores of clusters, and areas of high distance (lighter regions or ridges) which represent the separations or boundaries between these clusters can be identified. Comparing the U-matrix to the SOM grid with majority labels can help to see how the identified clusters correspond to the different digit classes."
      ],
      "metadata": {
        "id": "-KFQiLYUHufw"
      }
    },
    {
      "cell_type": "markdown",
      "metadata": {
        "id": "34b3bb69"
      },
      "source": [
        "## Evaluation\n"
      ]
    },
    {
      "cell_type": "code",
      "metadata": {
        "colab": {
          "base_uri": "https://localhost:8080/"
        },
        "id": "889c8339",
        "outputId": "ea3d2dc8-c152-4d98-e3ad-d72adf689fb7"
      },
      "source": [
        "# Obtaining the cluster labels assigned by the SOM for each data point.\n",
        "# This is done by mapping each data point in X_preprocessed to its winning neuron's majority label.\n",
        "som_cluster_labels = np.array([neuron_labels[som.winner(x)] for x in X_preprocessed])\n",
        "\n",
        "# Comparing these SOM-based cluster labels with the original ground truth labels (y).\n",
        "# The original labels y are currently strings, converting them to integers for comparison.\n",
        "original_labels_int = y.astype(int)\n",
        "\n",
        "# Calculating the Adjusted Rand Index (ARI) between the SOM-based cluster labels and the original labels.\n",
        "ari_score = adjusted_rand_score(original_labels_int, som_cluster_labels)\n",
        "\n",
        "# Calculating the Normalized Mutual Information (NMI) between the SOM-based cluster labels and the original labels.\n",
        "nmi_score = normalized_mutual_info_score(original_labels_int, som_cluster_labels)\n",
        "\n",
        "# Printing the calculated ARI and NMI scores to evaluate the clustering performance.\n",
        "print(f\"Adjusted Rand Index (ARI): {ari_score:.4f}\")\n",
        "print(f\"Normalized Mutual Information (NMI): {nmi_score:.4f}\")"
      ],
      "execution_count": 15,
      "outputs": [
        {
          "output_type": "stream",
          "name": "stdout",
          "text": [
            "Adjusted Rand Index (ARI): 0.6611\n",
            "Normalized Mutual Information (NMI): 0.6915\n"
          ]
        }
      ]
    },
    {
      "cell_type": "markdown",
      "source": [
        "The above code cell calculates and prints two metrics to evaluate the quality of the clustering performed by the SOM: Adjusted Rand Index (ARI) and Normalized Mutual Information (NMI).\n",
        "\n",
        "* **Adjusted Rand Index (ARI): {ari_score:.4f}:** The Adjusted Rand Index is a measure of the similarity between two clusterings. It considers all pairs of samples and counts pairs that are assigned to the same cluster in both the SOM clustering and the original ground truth labeling, and pairs that are assigned to different clusters in both. The \"Adjusted\" part means it's corrected for chance, so a score of 0 indicates random labeling, and a score of 1 indicates perfect agreement between the clusterings. Your output shows an ARI score (e.g., 0.6611), indicating a moderate level of agreement between the SOM's clusters and the true digit labels.\n",
        "* **Normalized Mutual Information (NMI): {nmi_score:.4f}:** Normalized Mutual Information is another metric that measures the agreement between two clusterings. It's based on the concept of mutual information from information theory, which quantifies the amount of information obtained about one clustering by observing the other. The NMI score is normalized, typically between 0 and 1, where 0 indicates no mutual information (random clustering) and 1 indicates perfect correlation. Your output shows an NMI score (e.g., 0.6915), which also suggests a moderate level of agreement or shared information between the SOM's clusters and the true digit labels.\n",
        "\n",
        "In summary, these scores provide a quantitative evaluation of how well the unsupervised SOM clustering aligns with the known true labels of the digits. Higher scores indicate better clustering performance. The values in the output suggest that the SOM was able to group digits somewhat effectively, but there is room for improvement, as indicated by the scores being below 1.0."
      ],
      "metadata": {
        "id": "0wqg8Ef1OeZS"
      }
    },
    {
      "cell_type": "markdown",
      "metadata": {
        "id": "dc17f3b1"
      },
      "source": [
        "## Exploring different som parameters\n",
        "\n",
        "\n"
      ]
    },
    {
      "cell_type": "code",
      "metadata": {
        "colab": {
          "base_uri": "https://localhost:8080/",
          "height": 425
        },
        "id": "681044b2",
        "outputId": "6dddfc4b-a061-4fcb-ed86-95f8d072fc46"
      },
      "source": [
        "# Defining a list of different SOM parameter combinations to test.\n",
        "param_combinations = [\n",
        "    {'map_width': 10, 'map_height': 10, 'sigma': 1.0, 'learning_rate': 0.5},\n",
        "    {'map_width': 15, 'map_height': 15, 'sigma': 1.0, 'learning_rate': 0.5},\n",
        "    {'map_width': 10, 'map_height': 10, 'sigma': 0.5, 'learning_rate': 0.5},\n",
        "    {'map_width': 10, 'map_height': 10, 'sigma': 1.0, 'learning_rate': 0.8},\n",
        "    {'map_width': 15, 'map_height': 15, 'sigma': 0.5, 'learning_rate': 0.8},\n",
        "]\n",
        "\n",
        "# Initializing an empty list to store the results.\n",
        "results = []\n",
        "\n",
        "# Predefining number of iterations\n",
        "num_iterations = 10000\n",
        "\n",
        "# Looping through each parameter combination defined in step 1.\n",
        "for params in param_combinations:\n",
        "    print(f\"Training with parameters: {params}\")\n",
        "\n",
        "    #Initializing a new MiniSom object with the current parameter values.\n",
        "    som = MiniSom(x=params['map_width'], y=params['map_height'],\n",
        "                  input_len=X_preprocessed.shape[1],\n",
        "                  sigma=params['sigma'], learning_rate=params['learning_rate'],\n",
        "                  random_seed=42)\n",
        "\n",
        "    #Initializing the SOM weights randomly.\n",
        "    som.random_weights_init(X_preprocessed)\n",
        "\n",
        "    #Training the SOM.\n",
        "    som.train_random(data=X_preprocessed, num_iteration=num_iterations)\n",
        "    print(\"Training complete.\")\n",
        "\n",
        "    #Mapping each data point to its winning neuron.\n",
        "    winning_neurons = np.array([som.winner(x) for x in X_preprocessed])\n",
        "\n",
        "    #Calculating the majority digit label for each neuron.\n",
        "    label_counts = {}\n",
        "    for i in range(params['map_width']):\n",
        "        for j in range(params['map_height']):\n",
        "            label_counts[(i, j)] = {digit: 0 for digit in range(10)}\n",
        "\n",
        "    for i, (wx, wy) in enumerate(winning_neurons):\n",
        "        original_label = int(y[i])\n",
        "        label_counts[(wx, wy)][original_label] += 1\n",
        "\n",
        "    neuron_labels = np.zeros((params['map_width'], params['map_height']), dtype=int)\n",
        "    for i in range(params['map_width']):\n",
        "        for j in range(params['map_height']):\n",
        "            if sum(label_counts[(i, j)].values()) > 0:\n",
        "                majority_label = max(label_counts[(i, j)], key=label_counts[(i, j)].get)\n",
        "                neuron_labels[i, j] = majority_label\n",
        "            else:\n",
        "                neuron_labels[i, j] = -1\n",
        "\n",
        "    # Obtaining the SOM-based cluster labels for each data point.\n",
        "    som_cluster_labels = np.array([neuron_labels[wx, wy] for wx, wy in winning_neurons])\n",
        "\n",
        "    # Converting the original labels to integers.\n",
        "    original_labels_int = y.astype(int)\n",
        "\n",
        "    # Calculating the Adjusted Rand Index (ARI).\n",
        "    ari_score = adjusted_rand_score(original_labels_int, som_cluster_labels)\n",
        "\n",
        "    # Calculating the Normalized Mutual Information (NMI).\n",
        "    nmi_score = normalized_mutual_info_score(original_labels_int, som_cluster_labels)\n",
        "\n",
        "    # Appending the results to the list.\n",
        "    results.append({\n",
        "        'map_width': params['map_width'],\n",
        "        'map_height': params['map_height'],\n",
        "        'sigma': params['sigma'],\n",
        "        'learning_rate': params['learning_rate'],\n",
        "        'ARI': ari_score,\n",
        "        'NMI': nmi_score\n",
        "    })\n",
        "\n",
        "# Converting the results list into a pandas DataFrame.\n",
        "results_df = pd.DataFrame(results)\n",
        "\n",
        "# Printing or display the DataFrame.\n",
        "print(\"\\nSOM Parameter Tuning Results:\")\n",
        "display(results_df)"
      ],
      "execution_count": 16,
      "outputs": [
        {
          "output_type": "stream",
          "name": "stdout",
          "text": [
            "Training with parameters: {'map_width': 10, 'map_height': 10, 'sigma': 1.0, 'learning_rate': 0.5}\n",
            "Training complete.\n",
            "Training with parameters: {'map_width': 15, 'map_height': 15, 'sigma': 1.0, 'learning_rate': 0.5}\n",
            "Training complete.\n",
            "Training with parameters: {'map_width': 10, 'map_height': 10, 'sigma': 0.5, 'learning_rate': 0.5}\n",
            "Training complete.\n",
            "Training with parameters: {'map_width': 10, 'map_height': 10, 'sigma': 1.0, 'learning_rate': 0.8}\n",
            "Training complete.\n",
            "Training with parameters: {'map_width': 15, 'map_height': 15, 'sigma': 0.5, 'learning_rate': 0.8}\n",
            "Training complete.\n",
            "\n",
            "SOM Parameter Tuning Results:\n"
          ]
        },
        {
          "output_type": "display_data",
          "data": {
            "text/plain": [
              "   map_width  map_height  sigma  learning_rate       ARI       NMI\n",
              "0         10          10    1.0            0.5  0.661114  0.691545\n",
              "1         15          15    1.0            0.5  0.734208  0.749120\n",
              "2         10          10    0.5            0.5  0.672349  0.702149\n",
              "3         10          10    1.0            0.8  0.641980  0.673413\n",
              "4         15          15    0.5            0.8  0.733201  0.748169"
            ],
            "text/html": [
              "\n",
              "  <div id=\"df-d1ffec8e-7ca6-4865-998a-31dd1dec2694\" class=\"colab-df-container\">\n",
              "    <div>\n",
              "<style scoped>\n",
              "    .dataframe tbody tr th:only-of-type {\n",
              "        vertical-align: middle;\n",
              "    }\n",
              "\n",
              "    .dataframe tbody tr th {\n",
              "        vertical-align: top;\n",
              "    }\n",
              "\n",
              "    .dataframe thead th {\n",
              "        text-align: right;\n",
              "    }\n",
              "</style>\n",
              "<table border=\"1\" class=\"dataframe\">\n",
              "  <thead>\n",
              "    <tr style=\"text-align: right;\">\n",
              "      <th></th>\n",
              "      <th>map_width</th>\n",
              "      <th>map_height</th>\n",
              "      <th>sigma</th>\n",
              "      <th>learning_rate</th>\n",
              "      <th>ARI</th>\n",
              "      <th>NMI</th>\n",
              "    </tr>\n",
              "  </thead>\n",
              "  <tbody>\n",
              "    <tr>\n",
              "      <th>0</th>\n",
              "      <td>10</td>\n",
              "      <td>10</td>\n",
              "      <td>1.0</td>\n",
              "      <td>0.5</td>\n",
              "      <td>0.661114</td>\n",
              "      <td>0.691545</td>\n",
              "    </tr>\n",
              "    <tr>\n",
              "      <th>1</th>\n",
              "      <td>15</td>\n",
              "      <td>15</td>\n",
              "      <td>1.0</td>\n",
              "      <td>0.5</td>\n",
              "      <td>0.734208</td>\n",
              "      <td>0.749120</td>\n",
              "    </tr>\n",
              "    <tr>\n",
              "      <th>2</th>\n",
              "      <td>10</td>\n",
              "      <td>10</td>\n",
              "      <td>0.5</td>\n",
              "      <td>0.5</td>\n",
              "      <td>0.672349</td>\n",
              "      <td>0.702149</td>\n",
              "    </tr>\n",
              "    <tr>\n",
              "      <th>3</th>\n",
              "      <td>10</td>\n",
              "      <td>10</td>\n",
              "      <td>1.0</td>\n",
              "      <td>0.8</td>\n",
              "      <td>0.641980</td>\n",
              "      <td>0.673413</td>\n",
              "    </tr>\n",
              "    <tr>\n",
              "      <th>4</th>\n",
              "      <td>15</td>\n",
              "      <td>15</td>\n",
              "      <td>0.5</td>\n",
              "      <td>0.8</td>\n",
              "      <td>0.733201</td>\n",
              "      <td>0.748169</td>\n",
              "    </tr>\n",
              "  </tbody>\n",
              "</table>\n",
              "</div>\n",
              "    <div class=\"colab-df-buttons\">\n",
              "\n",
              "  <div class=\"colab-df-container\">\n",
              "    <button class=\"colab-df-convert\" onclick=\"convertToInteractive('df-d1ffec8e-7ca6-4865-998a-31dd1dec2694')\"\n",
              "            title=\"Convert this dataframe to an interactive table.\"\n",
              "            style=\"display:none;\">\n",
              "\n",
              "  <svg xmlns=\"http://www.w3.org/2000/svg\" height=\"24px\" viewBox=\"0 -960 960 960\">\n",
              "    <path d=\"M120-120v-720h720v720H120Zm60-500h600v-160H180v160Zm220 220h160v-160H400v160Zm0 220h160v-160H400v160ZM180-400h160v-160H180v160Zm440 0h160v-160H620v160ZM180-180h160v-160H180v160Zm440 0h160v-160H620v160Z\"/>\n",
              "  </svg>\n",
              "    </button>\n",
              "\n",
              "  <style>\n",
              "    .colab-df-container {\n",
              "      display:flex;\n",
              "      gap: 12px;\n",
              "    }\n",
              "\n",
              "    .colab-df-convert {\n",
              "      background-color: #E8F0FE;\n",
              "      border: none;\n",
              "      border-radius: 50%;\n",
              "      cursor: pointer;\n",
              "      display: none;\n",
              "      fill: #1967D2;\n",
              "      height: 32px;\n",
              "      padding: 0 0 0 0;\n",
              "      width: 32px;\n",
              "    }\n",
              "\n",
              "    .colab-df-convert:hover {\n",
              "      background-color: #E2EBFA;\n",
              "      box-shadow: 0px 1px 2px rgba(60, 64, 67, 0.3), 0px 1px 3px 1px rgba(60, 64, 67, 0.15);\n",
              "      fill: #174EA6;\n",
              "    }\n",
              "\n",
              "    .colab-df-buttons div {\n",
              "      margin-bottom: 4px;\n",
              "    }\n",
              "\n",
              "    [theme=dark] .colab-df-convert {\n",
              "      background-color: #3B4455;\n",
              "      fill: #D2E3FC;\n",
              "    }\n",
              "\n",
              "    [theme=dark] .colab-df-convert:hover {\n",
              "      background-color: #434B5C;\n",
              "      box-shadow: 0px 1px 3px 1px rgba(0, 0, 0, 0.15);\n",
              "      filter: drop-shadow(0px 1px 2px rgba(0, 0, 0, 0.3));\n",
              "      fill: #FFFFFF;\n",
              "    }\n",
              "  </style>\n",
              "\n",
              "    <script>\n",
              "      const buttonEl =\n",
              "        document.querySelector('#df-d1ffec8e-7ca6-4865-998a-31dd1dec2694 button.colab-df-convert');\n",
              "      buttonEl.style.display =\n",
              "        google.colab.kernel.accessAllowed ? 'block' : 'none';\n",
              "\n",
              "      async function convertToInteractive(key) {\n",
              "        const element = document.querySelector('#df-d1ffec8e-7ca6-4865-998a-31dd1dec2694');\n",
              "        const dataTable =\n",
              "          await google.colab.kernel.invokeFunction('convertToInteractive',\n",
              "                                                    [key], {});\n",
              "        if (!dataTable) return;\n",
              "\n",
              "        const docLinkHtml = 'Like what you see? Visit the ' +\n",
              "          '<a target=\"_blank\" href=https://colab.research.google.com/notebooks/data_table.ipynb>data table notebook</a>'\n",
              "          + ' to learn more about interactive tables.';\n",
              "        element.innerHTML = '';\n",
              "        dataTable['output_type'] = 'display_data';\n",
              "        await google.colab.output.renderOutput(dataTable, element);\n",
              "        const docLink = document.createElement('div');\n",
              "        docLink.innerHTML = docLinkHtml;\n",
              "        element.appendChild(docLink);\n",
              "      }\n",
              "    </script>\n",
              "  </div>\n",
              "\n",
              "\n",
              "    <div id=\"df-e561e29b-e6aa-47fa-8c40-ed9e5d9049e3\">\n",
              "      <button class=\"colab-df-quickchart\" onclick=\"quickchart('df-e561e29b-e6aa-47fa-8c40-ed9e5d9049e3')\"\n",
              "                title=\"Suggest charts\"\n",
              "                style=\"display:none;\">\n",
              "\n",
              "<svg xmlns=\"http://www.w3.org/2000/svg\" height=\"24px\"viewBox=\"0 0 24 24\"\n",
              "     width=\"24px\">\n",
              "    <g>\n",
              "        <path d=\"M19 3H5c-1.1 0-2 .9-2 2v14c0 1.1.9 2 2 2h14c1.1 0 2-.9 2-2V5c0-1.1-.9-2-2-2zM9 17H7v-7h2v7zm4 0h-2V7h2v10zm4 0h-2v-4h2v4z\"/>\n",
              "    </g>\n",
              "</svg>\n",
              "      </button>\n",
              "\n",
              "<style>\n",
              "  .colab-df-quickchart {\n",
              "      --bg-color: #E8F0FE;\n",
              "      --fill-color: #1967D2;\n",
              "      --hover-bg-color: #E2EBFA;\n",
              "      --hover-fill-color: #174EA6;\n",
              "      --disabled-fill-color: #AAA;\n",
              "      --disabled-bg-color: #DDD;\n",
              "  }\n",
              "\n",
              "  [theme=dark] .colab-df-quickchart {\n",
              "      --bg-color: #3B4455;\n",
              "      --fill-color: #D2E3FC;\n",
              "      --hover-bg-color: #434B5C;\n",
              "      --hover-fill-color: #FFFFFF;\n",
              "      --disabled-bg-color: #3B4455;\n",
              "      --disabled-fill-color: #666;\n",
              "  }\n",
              "\n",
              "  .colab-df-quickchart {\n",
              "    background-color: var(--bg-color);\n",
              "    border: none;\n",
              "    border-radius: 50%;\n",
              "    cursor: pointer;\n",
              "    display: none;\n",
              "    fill: var(--fill-color);\n",
              "    height: 32px;\n",
              "    padding: 0;\n",
              "    width: 32px;\n",
              "  }\n",
              "\n",
              "  .colab-df-quickchart:hover {\n",
              "    background-color: var(--hover-bg-color);\n",
              "    box-shadow: 0 1px 2px rgba(60, 64, 67, 0.3), 0 1px 3px 1px rgba(60, 64, 67, 0.15);\n",
              "    fill: var(--button-hover-fill-color);\n",
              "  }\n",
              "\n",
              "  .colab-df-quickchart-complete:disabled,\n",
              "  .colab-df-quickchart-complete:disabled:hover {\n",
              "    background-color: var(--disabled-bg-color);\n",
              "    fill: var(--disabled-fill-color);\n",
              "    box-shadow: none;\n",
              "  }\n",
              "\n",
              "  .colab-df-spinner {\n",
              "    border: 2px solid var(--fill-color);\n",
              "    border-color: transparent;\n",
              "    border-bottom-color: var(--fill-color);\n",
              "    animation:\n",
              "      spin 1s steps(1) infinite;\n",
              "  }\n",
              "\n",
              "  @keyframes spin {\n",
              "    0% {\n",
              "      border-color: transparent;\n",
              "      border-bottom-color: var(--fill-color);\n",
              "      border-left-color: var(--fill-color);\n",
              "    }\n",
              "    20% {\n",
              "      border-color: transparent;\n",
              "      border-left-color: var(--fill-color);\n",
              "      border-top-color: var(--fill-color);\n",
              "    }\n",
              "    30% {\n",
              "      border-color: transparent;\n",
              "      border-left-color: var(--fill-color);\n",
              "      border-top-color: var(--fill-color);\n",
              "      border-right-color: var(--fill-color);\n",
              "    }\n",
              "    40% {\n",
              "      border-color: transparent;\n",
              "      border-right-color: var(--fill-color);\n",
              "      border-top-color: var(--fill-color);\n",
              "    }\n",
              "    60% {\n",
              "      border-color: transparent;\n",
              "      border-right-color: var(--fill-color);\n",
              "    }\n",
              "    80% {\n",
              "      border-color: transparent;\n",
              "      border-right-color: var(--fill-color);\n",
              "      border-bottom-color: var(--fill-color);\n",
              "    }\n",
              "    90% {\n",
              "      border-color: transparent;\n",
              "      border-bottom-color: var(--fill-color);\n",
              "    }\n",
              "  }\n",
              "</style>\n",
              "\n",
              "      <script>\n",
              "        async function quickchart(key) {\n",
              "          const quickchartButtonEl =\n",
              "            document.querySelector('#' + key + ' button');\n",
              "          quickchartButtonEl.disabled = true;  // To prevent multiple clicks.\n",
              "          quickchartButtonEl.classList.add('colab-df-spinner');\n",
              "          try {\n",
              "            const charts = await google.colab.kernel.invokeFunction(\n",
              "                'suggestCharts', [key], {});\n",
              "          } catch (error) {\n",
              "            console.error('Error during call to suggestCharts:', error);\n",
              "          }\n",
              "          quickchartButtonEl.classList.remove('colab-df-spinner');\n",
              "          quickchartButtonEl.classList.add('colab-df-quickchart-complete');\n",
              "        }\n",
              "        (() => {\n",
              "          let quickchartButtonEl =\n",
              "            document.querySelector('#df-e561e29b-e6aa-47fa-8c40-ed9e5d9049e3 button');\n",
              "          quickchartButtonEl.style.display =\n",
              "            google.colab.kernel.accessAllowed ? 'block' : 'none';\n",
              "        })();\n",
              "      </script>\n",
              "    </div>\n",
              "\n",
              "  <div id=\"id_eed76b30-0882-4856-aec5-05d12730434e\">\n",
              "    <style>\n",
              "      .colab-df-generate {\n",
              "        background-color: #E8F0FE;\n",
              "        border: none;\n",
              "        border-radius: 50%;\n",
              "        cursor: pointer;\n",
              "        display: none;\n",
              "        fill: #1967D2;\n",
              "        height: 32px;\n",
              "        padding: 0 0 0 0;\n",
              "        width: 32px;\n",
              "      }\n",
              "\n",
              "      .colab-df-generate:hover {\n",
              "        background-color: #E2EBFA;\n",
              "        box-shadow: 0px 1px 2px rgba(60, 64, 67, 0.3), 0px 1px 3px 1px rgba(60, 64, 67, 0.15);\n",
              "        fill: #174EA6;\n",
              "      }\n",
              "\n",
              "      [theme=dark] .colab-df-generate {\n",
              "        background-color: #3B4455;\n",
              "        fill: #D2E3FC;\n",
              "      }\n",
              "\n",
              "      [theme=dark] .colab-df-generate:hover {\n",
              "        background-color: #434B5C;\n",
              "        box-shadow: 0px 1px 3px 1px rgba(0, 0, 0, 0.15);\n",
              "        filter: drop-shadow(0px 1px 2px rgba(0, 0, 0, 0.3));\n",
              "        fill: #FFFFFF;\n",
              "      }\n",
              "    </style>\n",
              "    <button class=\"colab-df-generate\" onclick=\"generateWithVariable('results_df')\"\n",
              "            title=\"Generate code using this dataframe.\"\n",
              "            style=\"display:none;\">\n",
              "\n",
              "  <svg xmlns=\"http://www.w3.org/2000/svg\" height=\"24px\"viewBox=\"0 0 24 24\"\n",
              "       width=\"24px\">\n",
              "    <path d=\"M7,19H8.4L18.45,9,17,7.55,7,17.6ZM5,21V16.75L18.45,3.32a2,2,0,0,1,2.83,0l1.4,1.43a1.91,1.91,0,0,1,.58,1.4,1.91,1.91,0,0,1-.58,1.4L9.25,21ZM18.45,9,17,7.55Zm-12,3A5.31,5.31,0,0,0,4.9,8.1,5.31,5.31,0,0,0,1,6.5,5.31,5.31,0,0,0,4.9,4.9,5.31,5.31,0,0,0,6.5,1,5.31,5.31,0,0,0,8.1,4.9,5.31,5.31,0,0,0,12,6.5,5.46,5.46,0,0,0,6.5,12Z\"/>\n",
              "  </svg>\n",
              "    </button>\n",
              "    <script>\n",
              "      (() => {\n",
              "      const buttonEl =\n",
              "        document.querySelector('#id_eed76b30-0882-4856-aec5-05d12730434e button.colab-df-generate');\n",
              "      buttonEl.style.display =\n",
              "        google.colab.kernel.accessAllowed ? 'block' : 'none';\n",
              "\n",
              "      buttonEl.onclick = () => {\n",
              "        google.colab.notebook.generateWithVariable('results_df');\n",
              "      }\n",
              "      })();\n",
              "    </script>\n",
              "  </div>\n",
              "\n",
              "    </div>\n",
              "  </div>\n"
            ],
            "application/vnd.google.colaboratory.intrinsic+json": {
              "type": "dataframe",
              "variable_name": "results_df",
              "summary": "{\n  \"name\": \"results_df\",\n  \"rows\": 5,\n  \"fields\": [\n    {\n      \"column\": \"map_width\",\n      \"properties\": {\n        \"dtype\": \"number\",\n        \"std\": 2,\n        \"min\": 10,\n        \"max\": 15,\n        \"num_unique_values\": 2,\n        \"samples\": [\n          15,\n          10\n        ],\n        \"semantic_type\": \"\",\n        \"description\": \"\"\n      }\n    },\n    {\n      \"column\": \"map_height\",\n      \"properties\": {\n        \"dtype\": \"number\",\n        \"std\": 2,\n        \"min\": 10,\n        \"max\": 15,\n        \"num_unique_values\": 2,\n        \"samples\": [\n          15,\n          10\n        ],\n        \"semantic_type\": \"\",\n        \"description\": \"\"\n      }\n    },\n    {\n      \"column\": \"sigma\",\n      \"properties\": {\n        \"dtype\": \"number\",\n        \"std\": 0.27386127875258304,\n        \"min\": 0.5,\n        \"max\": 1.0,\n        \"num_unique_values\": 2,\n        \"samples\": [\n          0.5,\n          1.0\n        ],\n        \"semantic_type\": \"\",\n        \"description\": \"\"\n      }\n    },\n    {\n      \"column\": \"learning_rate\",\n      \"properties\": {\n        \"dtype\": \"number\",\n        \"std\": 0.16431676725154987,\n        \"min\": 0.5,\n        \"max\": 0.8,\n        \"num_unique_values\": 2,\n        \"samples\": [\n          0.8,\n          0.5\n        ],\n        \"semantic_type\": \"\",\n        \"description\": \"\"\n      }\n    },\n    {\n      \"column\": \"ARI\",\n      \"properties\": {\n        \"dtype\": \"number\",\n        \"std\": 0.04260970845657574,\n        \"min\": 0.641979977625778,\n        \"max\": 0.7342077358251853,\n        \"num_unique_values\": 5,\n        \"samples\": [\n          0.7342077358251853,\n          0.7332012194009834\n        ],\n        \"semantic_type\": \"\",\n        \"description\": \"\"\n      }\n    },\n    {\n      \"column\": \"NMI\",\n      \"properties\": {\n        \"dtype\": \"number\",\n        \"std\": 0.0342294589895789,\n        \"min\": 0.6734133599359293,\n        \"max\": 0.7491197390819241,\n        \"num_unique_values\": 5,\n        \"samples\": [\n          0.7491197390819241,\n          0.748169424382447\n        ],\n        \"semantic_type\": \"\",\n        \"description\": \"\"\n      }\n    }\n  ]\n}"
            }
          },
          "metadata": {}
        }
      ]
    },
    {
      "cell_type": "markdown",
      "source": [
        "The above code cell performs a parameter tuning experiment for the SOM by training it with different combinations of map_width, map_height, sigma, and learning_rate. The output summarizes the results of these experiments.\n",
        "\n",
        "**The pandas DataFrame:** This is the main output. It's a table that summarizes the performance of the SOM for each tested parameter combination.\n",
        "* **map_width and map_height:** These columns show the dimensions of the SOM grid used in each experiment.\n",
        "* **sigma:** This column shows the value of the sigma parameter (controls the neighborhood size) used in each experiment.\n",
        "learning_rate: This column shows the value of the learning_rate parameter (controls the step size for weight updates) used in each experiment.\n",
        "* **ARI:** This column shows the calculated Adjusted Rand Index for each parameter combination.\n",
        "* **NMI:** This column shows the calculated Normalized Mutual Information for each parameter combination.\n",
        "\n",
        "By examining the ARI and NMI columns in the DataFrame, the clustering performance of the SOM across different parameter settings can be compared. Higher values for ARI and NMI indicate better agreement with the original digit labels, suggesting better clustering. This table helps identify which parameter combinations resulted in the best performance for the dataset.\n",
        "\n",
        "**The parameter combination with the highest ARI and NMI scores is:**\n",
        "\n",
        "* map_width: 15\n",
        "* map_height: 15\n",
        "* sigma: 1.0\n",
        "* learning_rate: 0.5\n",
        "\n",
        "This combination (Row 1 in the DataFrame) resulted in an ARI of 0.7342 and an NMI of 0.7491, which are the highest scores among the tested parameters."
      ],
      "metadata": {
        "id": "u3Knh1rcQc2c"
      }
    },
    {
      "cell_type": "markdown",
      "metadata": {
        "id": "3e204363"
      },
      "source": [
        "## Investigate neurons with mixed majority labels\n"
      ]
    },
    {
      "cell_type": "code",
      "metadata": {
        "colab": {
          "base_uri": "https://localhost:8080/"
        },
        "id": "f3a1ac43",
        "outputId": "17ed1d30-836e-4876-988c-b427b181e8b3"
      },
      "source": [
        "# Using the SOM trained with the best parameters found in the previous subtask from the previous results, the 15x15 map with sigma=1.0 and learning_rate=0.5gave the highest ARI and NMI.\n",
        "#retraining a SOM with these parameters for clarity, though the results_df already contains the performance metrics for this configuration.\n",
        "# For the purpose of this subtask,using the neuron_labels and winning_neurons derived from the last parameter combination run in the previous subtask, which had the best performance (map_width=15, map_height=15, sigma=0.5, learning_rate=0.8).\n",
        "#using the best performing SOM for this analysis, re-initializing and training the SOM with the parameters that yielded the highest ARI/NMI.\n",
        "\n",
        "best_params_row = results_df.loc[results_df['ARI'].idxmax()]\n",
        "best_params = {\n",
        "    'map_width': int(best_params_row['map_width']),\n",
        "    'map_height': int(best_params_row['map_height']),\n",
        "    'sigma': best_params_row['sigma'],\n",
        "    'learning_rate': best_params_row['learning_rate']\n",
        "}\n",
        "\n",
        "print(f\"Using best parameters for SOM training: {best_params}\")\n",
        "\n",
        "som_best = MiniSom(x=best_params['map_width'], y=best_params['map_height'],\n",
        "                   input_len=X_preprocessed.shape[1],\n",
        "                   sigma=best_params['sigma'], learning_rate=best_params['learning_rate'],\n",
        "                   random_seed=42)\n",
        "som_best.random_weights_init(X_preprocessed)\n",
        "print(\"Retraining SOM with best parameters...\")\n",
        "som_best.train_random(data=X_preprocessed, num_iteration=num_iterations)\n",
        "print(\"Retraining complete.\")"
      ],
      "execution_count": 17,
      "outputs": [
        {
          "output_type": "stream",
          "name": "stdout",
          "text": [
            "Using best parameters for SOM training: {'map_width': 15, 'map_height': 15, 'sigma': np.float64(1.0), 'learning_rate': np.float64(0.5)}\n",
            "Retraining SOM with best parameters...\n",
            "Retraining complete.\n"
          ]
        }
      ]
    },
    {
      "cell_type": "markdown",
      "source": [
        "The above code cell retrains the SOM using the parameter combination that resulted in the best performance (highest ARI and NMI) from the previous parameter tuning step. Essentially, ensures that we have a MiniSom object (som_best) trained with the parameters that were found to be most effective for clustering the MNIST dataset in your experiments. This som_best object will then be used for the subsequent analysis of mixed neurons."
      ],
      "metadata": {
        "id": "H9QkS3KIZ_et"
      }
    },
    {
      "cell_type": "code",
      "source": [
        "# Re-calculating winning neurons and label counts for the best SOM\n",
        "winning_neurons_best = np.array([som_best.winner(x) for x in X_preprocessed])\n",
        "label_counts_best = {}\n",
        "for i in range(best_params['map_width']): #{i}{j are the coordinates of the mixed neuron on the SOM grid.\n",
        "    for j in range(best_params['map_height']):\n",
        "        label_counts_best[(i, j)] = {digit: 0 for digit in range(10)}\n",
        "\n",
        "for i, (wx, wy) in enumerate(winning_neurons_best):\n",
        "    original_label = int(y[i])\n",
        "    label_counts_best[(wx, wy)][original_label] += 1\n",
        "\n",
        "# Re-calculating neuron_labels for the best SOM\n",
        "neuron_labels_best = np.zeros((best_params['map_width'], best_params['map_height']), dtype=int)\n",
        "for i in range(best_params['map_width']):\n",
        "    for j in range(best_params['map_height']):\n",
        "        if sum(label_counts_best[(i, j)].values()) > 0:\n",
        "            majority_label = max(label_counts_best[(i, j)], key=label_counts_best[(i, j)].get)\n",
        "            neuron_labels_best[i, j] = majority_label\n",
        "        else:\n",
        "            neuron_labels_best[i, j] = -1\n",
        "\n",
        "\n",
        "\n",
        "# Identifying neurons with mixed majority labels.\n",
        "# Defining a threshold: a neuron is \"mixed\" if a non-majority class has at least 'min_mixed_count' data points\n",
        "min_mixed_count = 50\n",
        "mixed_neurons = []\n",
        "\n",
        "print(\"\\nIdentifying mixed neurons...\")\n",
        "for i in range(best_params['map_width']):\n",
        "    for j in range(best_params['map_height']):\n",
        "        counts = label_counts_best[(i, j)]\n",
        "        total_count = sum(counts.values())\n",
        "        if total_count > 0:\n",
        "            majority_label = neuron_labels_best[i, j]\n",
        "            is_mixed = False\n",
        "            for label, count in counts.items():\n",
        "                if label != majority_label and count >= min_mixed_count:\n",
        "                    is_mixed = True\n",
        "                    break\n",
        "            if is_mixed:\n",
        "                mixed_neurons.append((i, j))\n",
        "                print(f\"Mixed neuron at ({i}, {j}): {counts}\")\n",
        "\n",
        "print(f\"\\nFound {len(mixed_neurons)} mixed neurons based on threshold {min_mixed_count}.\")"
      ],
      "metadata": {
        "colab": {
          "base_uri": "https://localhost:8080/"
        },
        "id": "nk5PcjuTmKEk",
        "outputId": "dd331709-769e-4d39-f0c8-e4b3d9094064"
      },
      "execution_count": 18,
      "outputs": [
        {
          "output_type": "stream",
          "name": "stdout",
          "text": [
            "\n",
            "Identifying mixed neurons...\n",
            "Mixed neuron at (0, 2): {0: 0, 1: 0, 2: 6, 3: 0, 4: 1, 5: 0, 6: 0, 7: 222, 8: 16, 9: 80}\n",
            "Mixed neuron at (0, 14): {0: 0, 1: 0, 2: 1, 3: 2, 4: 94, 5: 6, 6: 0, 7: 3, 8: 1, 9: 182}\n",
            "Mixed neuron at (2, 0): {0: 0, 1: 4, 2: 2, 3: 0, 4: 128, 5: 1, 6: 1, 7: 110, 8: 6, 9: 107}\n",
            "Mixed neuron at (2, 9): {0: 6, 1: 0, 2: 1, 3: 15, 4: 0, 5: 165, 6: 87, 7: 0, 8: 37, 9: 0}\n",
            "Mixed neuron at (2, 10): {0: 6, 1: 1, 2: 0, 3: 58, 4: 4, 5: 178, 6: 1, 7: 1, 8: 35, 9: 7}\n",
            "Mixed neuron at (2, 12): {0: 1, 1: 1, 2: 28, 3: 76, 4: 6, 5: 68, 6: 3, 7: 3, 8: 26, 9: 1}\n",
            "Mixed neuron at (2, 14): {0: 0, 1: 0, 2: 4, 3: 77, 4: 0, 5: 87, 6: 1, 7: 0, 8: 124, 9: 1}\n",
            "Mixed neuron at (3, 6): {0: 0, 1: 1, 2: 0, 3: 0, 4: 59, 5: 3, 6: 0, 7: 51, 8: 3, 9: 361}\n",
            "Mixed neuron at (3, 12): {0: 0, 1: 0, 2: 21, 3: 126, 4: 0, 5: 177, 6: 2, 7: 0, 8: 70, 9: 2}\n",
            "Mixed neuron at (4, 5): {0: 0, 1: 0, 2: 0, 3: 1, 4: 116, 5: 1, 6: 0, 7: 14, 8: 2, 9: 409}\n",
            "Mixed neuron at (4, 7): {0: 6, 1: 0, 2: 7, 3: 6, 4: 4, 5: 2, 6: 0, 7: 10, 8: 67, 9: 92}\n",
            "Mixed neuron at (4, 10): {0: 0, 1: 0, 2: 0, 3: 159, 4: 0, 5: 211, 6: 1, 7: 0, 8: 18, 9: 2}\n",
            "Mixed neuron at (5, 4): {0: 0, 1: 0, 2: 1, 3: 0, 4: 5, 5: 1, 6: 0, 7: 92, 8: 3, 9: 102}\n",
            "Mixed neuron at (5, 7): {0: 0, 1: 8, 2: 8, 3: 22, 4: 34, 5: 1, 6: 0, 7: 305, 8: 2, 9: 84}\n",
            "Mixed neuron at (5, 13): {0: 1, 1: 1, 2: 0, 3: 6, 4: 89, 5: 4, 6: 0, 7: 16, 8: 6, 9: 220}\n",
            "Mixed neuron at (6, 10): {0: 4, 1: 0, 2: 1, 3: 127, 4: 0, 5: 240, 6: 0, 7: 1, 8: 46, 9: 2}\n",
            "Mixed neuron at (6, 11): {0: 1, 1: 0, 2: 0, 3: 33, 4: 0, 5: 229, 6: 2, 7: 0, 8: 65, 9: 5}\n",
            "Mixed neuron at (6, 12): {0: 0, 1: 0, 2: 0, 3: 125, 4: 0, 5: 56, 6: 0, 7: 2, 8: 42, 9: 18}\n",
            "Mixed neuron at (6, 13): {0: 0, 1: 7, 2: 0, 3: 2, 4: 291, 5: 1, 6: 0, 7: 35, 8: 0, 9: 84}\n",
            "Mixed neuron at (6, 14): {0: 0, 1: 7, 2: 1, 3: 2, 4: 194, 5: 4, 6: 0, 7: 7, 8: 1, 9: 144}\n",
            "Mixed neuron at (7, 0): {0: 0, 1: 0, 2: 0, 3: 0, 4: 0, 5: 176, 6: 52, 7: 0, 8: 4, 9: 0}\n",
            "Mixed neuron at (7, 9): {0: 0, 1: 0, 2: 0, 3: 6, 4: 0, 5: 56, 6: 0, 7: 0, 8: 68, 9: 8}\n",
            "Mixed neuron at (7, 11): {0: 7, 1: 0, 2: 5, 3: 10, 4: 62, 5: 30, 6: 3, 7: 14, 8: 13, 9: 138}\n",
            "Mixed neuron at (7, 13): {0: 1, 1: 0, 2: 7, 3: 12, 4: 77, 5: 20, 6: 1, 7: 23, 8: 6, 9: 176}\n",
            "Mixed neuron at (7, 14): {0: 0, 1: 0, 2: 0, 3: 1, 4: 172, 5: 0, 6: 0, 7: 13, 8: 0, 9: 194}\n",
            "Mixed neuron at (8, 3): {0: 1, 1: 1, 2: 1, 3: 80, 4: 0, 5: 5, 6: 0, 7: 0, 8: 83, 9: 1}\n",
            "Mixed neuron at (8, 10): {0: 0, 1: 0, 2: 0, 3: 1, 4: 59, 5: 1, 6: 0, 7: 33, 8: 2, 9: 168}\n",
            "Mixed neuron at (8, 13): {0: 0, 1: 0, 2: 1, 3: 0, 4: 7, 5: 1, 6: 0, 7: 123, 8: 0, 9: 124}\n",
            "Mixed neuron at (8, 14): {0: 0, 1: 0, 2: 0, 3: 1, 4: 137, 5: 0, 6: 0, 7: 15, 8: 1, 9: 357}\n",
            "Mixed neuron at (9, 4): {0: 0, 1: 1, 2: 38, 3: 7, 4: 4, 5: 1, 6: 0, 7: 61, 8: 113, 9: 20}\n",
            "Mixed neuron at (9, 11): {0: 0, 1: 0, 2: 1, 3: 2, 4: 197, 5: 2, 6: 1, 7: 7, 8: 1, 9: 99}\n",
            "Mixed neuron at (9, 12): {0: 0, 1: 0, 2: 2, 3: 0, 4: 88, 5: 2, 6: 0, 7: 1, 8: 0, 9: 160}\n",
            "Mixed neuron at (10, 10): {0: 0, 1: 0, 2: 0, 3: 2, 4: 239, 5: 0, 6: 0, 7: 10, 8: 3, 9: 66}\n",
            "Mixed neuron at (12, 2): {0: 0, 1: 0, 2: 4, 3: 4, 4: 57, 5: 3, 6: 0, 7: 82, 8: 9, 9: 242}\n",
            "Mixed neuron at (12, 8): {0: 0, 1: 0, 2: 3, 3: 173, 4: 0, 5: 59, 6: 0, 7: 0, 8: 5, 9: 0}\n",
            "Mixed neuron at (13, 9): {0: 21, 1: 1, 2: 4, 3: 59, 4: 0, 5: 189, 6: 32, 7: 0, 8: 3, 9: 0}\n",
            "\n",
            "Found 36 mixed neurons based on threshold 50.\n"
          ]
        }
      ]
    },
    {
      "cell_type": "markdown",
      "source": [
        "Above code cell focuses on identifying neurons on the SOM grid that have a significant presence of data points from multiple different digit classes. These are referred to as \"mixed\" neurons and can indicate areas of clustering ambiguity.\n",
        "\n",
        "Dictionary shows the counts of each original digit label (0-9) that were mapped to this specific neuron. It can be seen that while one digit might have the highest count (the majority label for that neuron), other digits also have a count equal to or greater than the min_mixed_count threshold. This is why the neuron is considered \"mixed\".\n",
        "\n",
        "In essence, this output highlights the neurons on SOM grid where the clustering is not clear-cut, and data points from different digit classes are significantly represented. Investigating these neurons further can provide insights into which digits are being confused by the SOM and why."
      ],
      "metadata": {
        "id": "M1GpyOySblAP"
      }
    },
    {
      "cell_type": "code",
      "source": [
        "# Selecting a few of these identified \"mixed\" neurons for further investigation.\n",
        "# Selecting the first 5 mixed neurons found, or fewer if less than 5 exist.\n",
        "selected_mixed_neurons = mixed_neurons[:5]\n",
        "\n",
        "print(f\"\\nInvestigating {len(selected_mixed_neurons)} selected mixed neurons.\")"
      ],
      "metadata": {
        "colab": {
          "base_uri": "https://localhost:8080/"
        },
        "id": "nOX4OL8XmREf",
        "outputId": "4ed9c15c-e97f-4822-8249-b7bf9aa73e13"
      },
      "execution_count": 20,
      "outputs": [
        {
          "output_type": "stream",
          "name": "stdout",
          "text": [
            "\n",
            "Investigating 5 selected mixed neurons.\n"
          ]
        }
      ]
    },
    {
      "cell_type": "markdown",
      "source": [
        "The above output confirms how many of the mixed neurons will be analyzed and visualized."
      ],
      "metadata": {
        "id": "Nb3ARYz0eNAg"
      }
    },
    {
      "cell_type": "code",
      "source": [
        "# For each selected mixed neuron, finding the indices of the data points mapped to it.\n",
        "# Retrieving original images and labels, and visualize.\n",
        "for neuron_coord in selected_mixed_neurons:\n",
        "    wx, wy = neuron_coord\n",
        "    print(f\"\\nAnalyzing data points for mixed neuron at ({wx}, {wy})\")\n",
        "\n",
        "    # Finding indices of data points that map to this neuron\n",
        "    data_indices = [i for i, (nx, ny) in enumerate(winning_neurons_best) if nx == wx and ny == wy]\n",
        "\n",
        "    # Retrieving original images and labels for these indices\n",
        "    neuron_images = X[data_indices]\n",
        "    neuron_labels_original = y[data_indices]\n",
        "\n",
        "    print(f\"  Total data points mapped to this neuron: {len(data_indices)}\")\n",
        "    print(f\"  Original labels of these data points: {np.unique(neuron_labels_original, return_counts=True)}\")"
      ],
      "metadata": {
        "colab": {
          "base_uri": "https://localhost:8080/"
        },
        "id": "-V_GCmygddOD",
        "outputId": "e9b66772-59f0-45b6-9378-5103baa179ae"
      },
      "execution_count": 21,
      "outputs": [
        {
          "output_type": "stream",
          "name": "stdout",
          "text": [
            "\n",
            "Analyzing data points for mixed neuron at (0, 2)\n",
            "  Total data points mapped to this neuron: 325\n",
            "  Original labels of these data points: (array(['2', '4', '7', '8', '9'], dtype=object), array([  6,   1, 222,  16,  80]))\n",
            "\n",
            "Analyzing data points for mixed neuron at (0, 14)\n",
            "  Total data points mapped to this neuron: 289\n",
            "  Original labels of these data points: (array(['2', '3', '4', '5', '7', '8', '9'], dtype=object), array([  1,   2,  94,   6,   3,   1, 182]))\n",
            "\n",
            "Analyzing data points for mixed neuron at (2, 0)\n",
            "  Total data points mapped to this neuron: 359\n",
            "  Original labels of these data points: (array(['1', '2', '4', '5', '6', '7', '8', '9'], dtype=object), array([  4,   2, 128,   1,   1, 110,   6, 107]))\n",
            "\n",
            "Analyzing data points for mixed neuron at (2, 9)\n",
            "  Total data points mapped to this neuron: 311\n",
            "  Original labels of these data points: (array(['0', '2', '3', '5', '6', '8'], dtype=object), array([  6,   1,  15, 165,  87,  37]))\n",
            "\n",
            "Analyzing data points for mixed neuron at (2, 10)\n",
            "  Total data points mapped to this neuron: 291\n",
            "  Original labels of these data points: (array(['0', '1', '3', '4', '5', '6', '7', '8', '9'], dtype=object), array([  6,   1,  58,   4, 178,   1,   1,  35,   7]))\n"
          ]
        }
      ]
    },
    {
      "cell_type": "markdown",
      "source": [
        "The above code cell focuses on identifying and providing information about the data points that are mapped to the \"mixed\" neurons selected for further investigation.\n",
        "\n",
        "* An array of the unique original digit labels that are present among the data points mapped to this neuron.\n",
        "* An array of the counts corresponding to each of those unique original labels.\n",
        "\n",
        "By looking at the unique labels and their counts, the distribution of different digits that are grouped together in this single neuron can be seen. This output, combined with the image visualization in the next step, helps understand which digits are causing the neuron to be mixed and potentially why they are being clustered together by the SOM."
      ],
      "metadata": {
        "id": "G2vrxhsyfZJ3"
      }
    },
    {
      "cell_type": "code",
      "source": [
        "# Visualizing a subset of these images\n",
        "num_images_to_visualize = min(len(data_indices), 20) # Visualize up to 20 images\n",
        "print(f\"  Displaying {num_images_to_visualize} sample images from this neuron...\")\n",
        "\n",
        "fig, axes = plt.subplots(2, num_images_to_visualize // 2, figsize=(15, 6))\n",
        "axes = axes.flatten()\n",
        "\n",
        "# Selecting a subset of indices to display\n",
        "display_indices = np.random.choice(len(data_indices), num_images_to_visualize, replace=False)\n",
        "\n",
        "for i, ax in enumerate(axes):\n",
        "  original_data_index = data_indices[display_indices[i]]\n",
        "  img = X[original_data_index].reshape(28, 28)\n",
        "  ax.imshow(img, cmap='gray')\n",
        "  ax.set_title(f'Label: {y[original_data_index]}')\n",
        "  ax.axis('off')\n",
        "\n",
        "# Move plt.show() outside the loop\n",
        "plt.tight_layout()\n",
        "plt.show()\n",
        "\n",
        "print(\"\\nAnalysis of mixed neurons complete.\")"
      ],
      "metadata": {
        "colab": {
          "base_uri": "https://localhost:8080/",
          "height": 346
        },
        "id": "k-lQMIWRdj8N",
        "outputId": "65dcc48d-6d86-4d42-9d6f-b8a6c8dae5ae"
      },
      "execution_count": 26,
      "outputs": [
        {
          "output_type": "stream",
          "name": "stdout",
          "text": [
            "  Displaying 20 sample images from this neuron...\n"
          ]
        },
        {
          "output_type": "display_data",
          "data": {
            "text/plain": [
              "<Figure size 1500x600 with 20 Axes>"
            ],
            "image/png": "[encoded data removed]"
          },
          "metadata": {}
        },
        {
          "output_type": "stream",
          "name": "stdout",
          "text": [
            "\n",
            "Analysis of mixed neurons complete.\n"
          ]
        }
      ]
    },
    {
      "cell_type": "markdown",
      "source": [
        "Above code investigates the \"mixed\" neurons identified in the previous step by visualizing some of the original handwritten digit images that were mapped to these neurons.\n",
        "\n",
        "**The Image Grid:** For each selected mixed neuron, a grid of images is displayed. Each image is a handwritten digit from the original MNIST dataset that was mapped to that specific neuron. The title above each image shows its original digit label.\n",
        "\n",
        "By examining these image grids examples of different digits that the SOM grouped together in the same neuron can be visualised. This helps to understand why these neurons were identified as mixed. It is observed that the images, despite having different labels, share some visual similarities or are written in a way that makes them ambiguous, leading the SOM to map them to the same area on the grid. This provides a concrete illustration of the clustering ambiguities captured by the SOM."
      ],
      "metadata": {
        "id": "dNwFyJqAcktD"
      }
    },
    {
      "cell_type": "markdown",
      "metadata": {
        "id": "6c153ada"
      },
      "source": [
        "## Summary:\n",
        "\n",
        "### Data Analysis Key Findings\n",
        "*   The MNIST dataset was successfully loaded directly from OpenML, containing 70,000 samples with 784 features each.\n",
        "*   The dataset had no missing values.\n",
        "*   Data scaling was performed using `MinMaxScaler` to the range [0, 1].\n",
        "*   PCA was applied for dimensionality reduction, reducing the feature count from 784 to 154 while retaining 95% of the variance.\n",
        "*   The distribution of digit labels in the dataset is relatively uniform.\n",
        "*   Sample image visualization confirmed the dataset contains 28x28 grayscale handwritten digits.\n",
        "*   A Self-Organizing Map (SOM) was successfully implemented and trained using the `minisom` library.\n",
        "*   The trained SOM grid visualized with majority digit labels showed how digits were spatially organized on the map.\n",
        "*   The U-matrix visualization helped identify potential cluster boundaries on the SOM grid.\n",
        "*   The clustering performance of the SOM was evaluated using Adjusted Rand Index (ARI) and Normalized Mutual Information (NMI), yielding scores of approximately 0.6611 and 0.6915, respectively.\n",
        "*   Larger SOM map sizes (15x15) generally resulted in better clustering performance (higher ARI and NMI scores) compared to smaller map sizes (10x10).\n",
        "*   The parameter combination of a 15x15 map, sigma 1.0, and learning rate 0.5 yielded the highest ARI (0.734208) and NMI (0.749120) among the tested parameters.\n",
        "*   Neurons on the SOM grid were identified as \"mixed\" if they contained at least 50 data points from a non-majority digit class. The analysis confirmed the existence of such neurons, indicating clustering ambiguity for certain input images.\n",
        "*   Visualization of images mapped to mixed neurons showed examples of different digits (e.g., '7' and '9') being grouped together, suggesting visual similarities or ambiguities in the handwritten digits that the SOM captured.\n"
      ]
    }
  ]
}